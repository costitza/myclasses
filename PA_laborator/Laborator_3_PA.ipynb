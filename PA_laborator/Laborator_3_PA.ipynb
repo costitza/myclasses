{
 "cells": [
  {
   "cell_type": "markdown",
   "id": "031af70b",
   "metadata": {},
   "source": [
    "# Laborator 3 PA - ȘIRURI DE CARACTERE"
   ]
  },
  {
   "cell_type": "markdown",
   "id": "3e7fc5db",
   "metadata": {},
   "source": [
    "### Exercițiul 1:\n",
    "Consultați documentația [Python str](https://docs.python.org/3/library/stdtypes.html#text-sequence-type-str) pentru metodele:\n",
    "- `replace`\n",
    "- `upper`\n",
    "- `isupper`\n",
    "- `center`\n"
   ]
  },
  {
   "cell_type": "code",
   "id": "2de347e7",
   "metadata": {
    "ExecuteTime": {
     "end_time": "2025-10-16T11:13:35.462420Z",
     "start_time": "2025-10-16T11:13:35.457480Z"
    }
   },
   "source": [
    "exemplu = \"Ana are mere. Ana are si pere\"\n",
    "\n",
    "# inlocuim toate aparitiile primului sir cu cel de-al doilea sir\n",
    "print(exemplu.replace(\"Ana\", \"Matei\"))\n",
    "print(exemplu)\n",
    "\n",
    "# inlocuim doar prima aparitie (sau de cate ori vrem)\n",
    "print(exemplu.replace(\"Ana\", \"Maria\", 1))\n",
    "\n",
    "# upper - transformarea sirului cu litere mari\n",
    "print(exemplu.upper())\n",
    "\n",
    "# lower - echivalent cu upper invers\n",
    "print(exemplu.lower())\n",
    "\n",
    "# isupper / islower - verifica daca sunt toate mari / mici\n",
    "print(exemplu.isupper())\n",
    "\n",
    "print(\"salut\".center(10, \"*\"))"
   ],
   "outputs": [
    {
     "name": "stdout",
     "output_type": "stream",
     "text": [
      "Matei are mere. Matei are si pere\n",
      "Ana are mere. Ana are si pere\n",
      "Maria are mere. Ana are si pere\n",
      "ANA ARE MERE. ANA ARE SI PERE\n",
      "ana are mere. ana are si pere\n",
      "False\n",
      "**salut***\n"
     ]
    }
   ],
   "execution_count": 8
  },
  {
   "cell_type": "markdown",
   "id": "4fca8dfd",
   "metadata": {},
   "source": [
    "### Exercițiul 2:\n",
    "Se citește un cuvânt `s` de cel mult 10 caractere.  \n",
    "Să se afișeze pe câte o linie cuvintele obținute succesiv din `s` tăind prima și ultima literă, afișate **centrat pe 10 caractere**.\n",
    "\n",
    "🔹 Exemplu pentru `s = algoritm`:\n",
    "<pre> \n",
    "algoritm\n",
    " lgorit\n",
    "  gori\n",
    "   ori\n",
    "    r\n",
    "</pre>"
   ]
  },
  {
   "cell_type": "code",
   "id": "7f93c50d",
   "metadata": {
    "ExecuteTime": {
     "end_time": "2025-10-16T11:21:18.278443Z",
     "start_time": "2025-10-16T11:21:14.730260Z"
    }
   },
   "source": [
    "str = input(\"introdu cv:\")\n",
    "\n",
    "for i in range(0, len(str) // 2):\n",
    "    print(str.center(10, \" \"))\n",
    "    str = str[1:-1]\n",
    "\n"
   ],
   "outputs": [
    {
     "name": "stdout",
     "output_type": "stream",
     "text": [
      " algoritm \n",
      "  lgorit  \n",
      "   gori   \n",
      "    or    \n"
     ]
    }
   ],
   "execution_count": 17
  },
  {
   "cell_type": "markdown",
   "id": "7fd1ef5c",
   "metadata": {},
   "source": [
    "### Exercițiul 3:\n",
    "Să se verifice (folosind întâi `find`, apoi `index`) dacă un șir de caractere `t` apare ca **subșir** într-un șir `s`.\n",
    "\n",
    "Dacă da, se afișează toate **pozițiile** la care începe `t` în `s` (fără suprapuneri).  \n",
    "Dacă nu, se afișează un mesaj corespunzător.\n",
    "\n",
    "🔹 Exemplu:  \n",
    "`t = \"abc\"`  \n",
    "`s = \"abccabcababc\"`  \n",
    "→ apare la pozițiile: 0, 4, 9"
   ]
  },
  {
   "cell_type": "code",
   "id": "f3e76035",
   "metadata": {
    "ExecuteTime": {
     "end_time": "2025-10-16T11:35:29.370716Z",
     "start_time": "2025-10-16T11:35:20.974112Z"
    }
   },
   "source": [
    "t = input(\"pune subsir:\")\n",
    "s = input(\"pune sir:\")\n",
    "pos = 0\n",
    "\n",
    "while len(s) >= pos:\n",
    "    if s.find(t, pos) != -1:\n",
    "        print(s.find(t, pos), end = \" \")\n",
    "        pos = s.find(t, pos) + len(t)\n",
    "    else: break\n"
   ],
   "outputs": [
    {
     "name": "stdout",
     "output_type": "stream",
     "text": [
      "0 4 9 "
     ]
    }
   ],
   "execution_count": 25
  },
  {
   "metadata": {
    "ExecuteTime": {
     "end_time": "2025-10-16T11:42:26.605139Z",
     "start_time": "2025-10-16T11:42:21.267181Z"
    }
   },
   "cell_type": "code",
   "source": [
    "t = input(\"pune subsir:\")\n",
    "s = input(\"pune sir:\")\n",
    "pos = 0\n",
    "\n",
    "try:\n",
    "    while True:\n",
    "        pos = s.index(t, pos)\n",
    "        print(pos, end=\" \")\n",
    "        pos = pos + len(t)\n",
    "except ValueError:\n",
    "    pass"
   ],
   "id": "f82122334af6bdcf",
   "outputs": [
    {
     "name": "stdout",
     "output_type": "stream",
     "text": [
      "0 4 9 "
     ]
    }
   ],
   "execution_count": 29
  },
  {
   "cell_type": "markdown",
   "id": "cf776abf",
   "metadata": {},
   "source": [
    "### Exercițiul 4 a):\n",
    "Se citesc de la tastatură:\n",
    "- o propoziție\n",
    "- două șiruri `s` și `t` (cel corect și cel greșit)\n",
    "\n",
    "Să se afișeze propoziția **corectată** înlocuind toate aparițiile lui `t` cu `s`.\n",
    "\n",
    "🔹 Exemplu:  \n",
    "Propoziția: `\"Problemele cu șiruri de caracteger nu sunt ggerle!\"`  \n",
    "`s = \"re\"`  \n",
    "`t = \"ger\"`  \n",
    "→ `\"Problemele cu șiruri de caractere nu sunt grele!\"`"
   ]
  },
  {
   "cell_type": "code",
   "id": "e0a11afd",
   "metadata": {
    "ExecuteTime": {
     "end_time": "2025-10-16T11:44:12.134903Z",
     "start_time": "2025-10-16T11:43:52.388485Z"
    }
   },
   "source": [
    "prop = input(\"Propozitia: \")\n",
    "s = input(\"cu ce inlocuim: \")\n",
    "t = input(\"cine este inlocuit: \")\n",
    "\n",
    "print(prop.replace(t, s))"
   ],
   "outputs": [
    {
     "name": "stdout",
     "output_type": "stream",
     "text": [
      "Problemele cu șiruri de caractere nu sunt grele!\n"
     ]
    }
   ],
   "execution_count": 30
  },
  {
   "cell_type": "markdown",
   "id": "5b1ae064",
   "metadata": {},
   "source": [
    "### Exercițiul 4 b):\n",
    "Modificați programul anterior pentru a citi și un număr natural `p`  \n",
    "și să corecteze **maxim `p` greșeli (care nu se suprapun)**.\n",
    "\n",
    "Dacă sunt mai multe, se afișează mesajul:  \n",
    "`\"Textul contine prea multe greseli, doar p au fost corectate\"`"
   ]
  },
  {
   "cell_type": "code",
   "execution_count": null,
   "id": "5844b8c4",
   "metadata": {},
   "outputs": [],
   "source": [
    "prop = input(\"Propozitia: \")\n",
    "s = input(\"cu ce inlocuim: \")\n",
    "t = input(\"cine este inlocuit: \")\n",
    "p = int(input(\"de cate ori: \"))\n",
    "\n",
    "\n",
    "if prop.count(t) > p:\n",
    "    print(\"sa stii ca sunt prea multe greseli in propozitia ta\")\n",
    "else:\n",
    "    print(prop.replace(t, s, p))\n"
   ]
  },
  {
   "cell_type": "markdown",
   "id": "a55a0c6e",
   "metadata": {},
   "source": [
    "### Exercițiul 5 a):\n",
    "Scrieți un program care să înlocuiască într-o propoziție **toate aparițiile unui cuvânt `s`** cu un cuvânt `t`.\n",
    "\n",
    "❗ Înlocuirea trebuie să se facă **la nivel de cuvânt**, nu subșir.  \n",
    "Cuvintele sunt separate prin unul sau mai multe spații."
   ]
  },
  {
   "cell_type": "code",
   "id": "b1c52483",
   "metadata": {
    "ExecuteTime": {
     "end_time": "2025-10-16T11:55:33.503058Z",
     "start_time": "2025-10-16T11:55:21.597312Z"
    }
   },
   "source": [
    "prop = input()\n",
    "s = input()\n",
    "t = input()\n",
    "\n",
    "cuvinte = prop.split(\" \")\n",
    "prop_nou = []\n",
    "\n",
    "for cuvant in cuvinte:\n",
    "    if cuvant == s:\n",
    "       prop_nou.append(t)\n",
    "    else:\n",
    "        prop_nou.append(cuvant)\n",
    "\n",
    "print(*prop_nou)\n"
   ],
   "outputs": [
    {
     "name": "stdout",
     "output_type": "stream",
     "text": [
      "['mara', 'anamaria']\n"
     ]
    }
   ],
   "execution_count": 32
  },
  {
   "cell_type": "markdown",
   "id": "76a58cf4",
   "metadata": {},
   "source": [
    "### Exercițiul 5 b):\n",
    "Aceeași cerință ca la exercițiul anterior, dar:\n",
    "- cuvintele sunt separate de spații și **semne de punctuație uzuale** (`.,!?;:` etc.)  \n",
    "- Înlocuirea trebuie să fie corectă doar pentru **cuvinte exacte**"
   ]
  },
  {
   "cell_type": "code",
   "execution_count": null,
   "id": "3136819c",
   "metadata": {},
   "outputs": [],
   "source": [
    "import re\n",
    "\n",
    "prop = input()\n",
    "s = input()\n",
    "t = input()\n",
    "\n",
    "cuvinte = re.split(r',.!?;:', t)\n",
    "prop_nou = []\n",
    "\n",
    "for cuvant in cuvinte:\n",
    "    if cuvant == s:\n",
    "       prop_nou.append(t)\n",
    "    else:\n",
    "        prop_nou.append(cuvant)\n",
    "\n",
    "print(*prop_nou)"
   ]
  },
  {
   "cell_type": "markdown",
   "id": "141cc93b",
   "metadata": {},
   "source": [
    "### Exercițiul 6: Cifrul lui Cezar (criptare)\n",
    "Se citește un text și un număr natural `k`.  \n",
    "Să se afișeze textul **cifrat cu Cifrul lui Cezar**, prin care fiecare **literă** este înlocuită cu litera aflată la `k` poziții la dreapta în alfabet, **circular**.\n",
    "\n",
    "🔹 Exemplu:  \n",
    "Text: `\"O zi frumoasa!\"`  \n",
    "`k = 9`  \n",
    "→ `\"X ir oadvxjbj!\"`"
   ]
  },
  {
   "cell_type": "code",
   "id": "a6c365ce",
   "metadata": {
    "ExecuteTime": {
     "end_time": "2025-10-16T12:23:22.513449Z",
     "start_time": "2025-10-16T12:23:15.196820Z"
    }
   },
   "source": [
    "text = input()\n",
    "k = int(input())\n",
    "tnou = []\n",
    "\n",
    "for i in text:\n",
    "    if i not in \" ,?!;.\":\n",
    "        if 'a' <= i <= 'z':\n",
    "            i = chr((ord(i) + k - ord('a')) % 26 + ord('a'))\n",
    "        elif 'A' <= i <= 'Z':\n",
    "            i = chr((ord(i) + k - ord('A')) % 26 + ord('A'))\n",
    "    print(i, end = \"\")\n",
    "\n"
   ],
   "outputs": [
    {
     "name": "stdout",
     "output_type": "stream",
     "text": [
      "X ir oadvxjbj!"
     ]
    }
   ],
   "execution_count": 44
  },
  {
   "cell_type": "markdown",
   "id": "a6d0695f",
   "metadata": {},
   "source": [
    "### Exercițiul 6: Cifrul lui Cezar (decriptare)\n",
    "Se citește un text cifrat și cheia `k`.  \n",
    "Să se afișeze textul **original (decriptat)**."
   ]
  },
  {
   "cell_type": "code",
   "id": "f581ba54",
   "metadata": {
    "ExecuteTime": {
     "end_time": "2025-10-16T12:23:46.031137Z",
     "start_time": "2025-10-16T12:23:41.264853Z"
    }
   },
   "source": [
    "text = input()\n",
    "k = int(input())\n",
    "tnou = []\n",
    "\n",
    "for i in text:\n",
    "    if i not in \" ,?!;.\":\n",
    "        if 'a' <= i <= 'z':\n",
    "            i = chr((ord(i) - k - ord('a')) % 26 + ord('a'))\n",
    "        elif 'A' <= i <= 'Z':\n",
    "            i = chr((ord(i) - k - ord('A')) % 26 + ord('A'))\n",
    "    print(i, end = \"\")\n",
    "\n"
   ],
   "outputs": [
    {
     "name": "stdout",
     "output_type": "stream",
     "text": [
      "O zi frumoasa!"
     ]
    }
   ],
   "execution_count": 45
  },
  {
   "cell_type": "markdown",
   "id": "aa6ea48e",
   "metadata": {},
   "source": [
    "### Exercițiul 7: Limba păsărească\n",
    "Se citește un text.  \n",
    "Să se „traducă” în **limba păsărească**, astfel:\n",
    "\n",
    "- După fiecare vocală `a, e, i, o, u` se adaugă litera `p` și încă o dată aceea vocală.\n",
    "\n",
    "🔹 Exemplu:  \n",
    "Text: `\"Ana are mere.\"`  \n",
    "→ `\"Apanapa aparepe meperepe.\"`"
   ]
  },
  {
   "cell_type": "code",
   "id": "77423597",
   "metadata": {
    "ExecuteTime": {
     "end_time": "2025-10-16T12:27:47.036729Z",
     "start_time": "2025-10-16T12:27:40.282563Z"
    }
   },
   "source": [
    "sir = input()\n",
    "\n",
    "sir_nou = \"\"\n",
    "vocale = \"aeiouAEIOU\"\n",
    "\n",
    "for litera in sir:\n",
    "    if litera in vocale:\n",
    "        sir_nou = sir_nou + litera + \"p\" + litera.lower()\n",
    "    else:\n",
    "        sir_nou = sir_nou + litera\n",
    "\n",
    "print(sir_nou)"
   ],
   "outputs": [
    {
     "name": "stdout",
     "output_type": "stream",
     "text": [
      "Apanapa aparepe meperepe\n"
     ]
    }
   ],
   "execution_count": 47
  },
  {
   "cell_type": "markdown",
   "id": "5ac16334",
   "metadata": {},
   "source": [
    "### Exercițiul 7: Decriptare limbă păsărească\n",
    "Fiind dat un text în limba păsărească, se cere să se afișeze **textul original**.\n",
    "\n",
    "🔹 Exemplu invers pentru `\"Apanapa aparepe meperepe.\"`  \n",
    "→ `\"Ana are mere.\"`"
   ]
  },
  {
   "cell_type": "code",
   "id": "2778567c",
   "metadata": {
    "ExecuteTime": {
     "end_time": "2025-10-16T12:32:07.225606Z",
     "start_time": "2025-10-16T12:32:02.638686Z"
    }
   },
   "source": [
    "sir = input()\n",
    "\n",
    "sir_nou = \"\"\n",
    "vocale = \"aeiouAEIOU\"\n",
    "\n",
    "i = 0\n",
    "while i < len(sir):\n",
    "    if sir[i] in vocale:\n",
    "        sir_nou = sir_nou + sir[i]\n",
    "        i += 2\n",
    "    else:\n",
    "        sir_nou = sir_nou + sir[i]\n",
    "    i += 1\n",
    "\n",
    "print(sir_nou)\n"
   ],
   "outputs": [
    {
     "name": "stdout",
     "output_type": "stream",
     "text": [
      "Ana are mere.\n"
     ]
    }
   ],
   "execution_count": 49
  },
  {
   "cell_type": "markdown",
   "id": "43c95935",
   "metadata": {},
   "source": [
    "### Exercițiul 8: Jurnalul Anei\n",
    "Se citește o frază de forma:\n",
    "`\"Astăzi am cumpărat pâine de 5 RON, pe lapte am dat 10 RON, iar de 15 RON am cumpărat cașcaval. De asemenea, mi-am cumpărat și niște papuci cu 50 RON!\"`\n",
    "\n",
    "Să se afișeze suma totală cheltuită (toate numerele din text).  \n",
    "Toate sumele sunt numere **naturale** care apar **corect** în text.\n",
    "\n",
    "🔹 Răspuns pentru exemplul de mai sus: `80 RON`"
   ]
  },
  {
   "cell_type": "code",
   "id": "8fd76118",
   "metadata": {
    "ExecuteTime": {
     "end_time": "2025-10-16T12:35:03.122857Z",
     "start_time": "2025-10-16T12:34:52.799226Z"
    }
   },
   "source": [
    "text = input()\n",
    "elements = text.split(\" \")\n",
    "\n",
    "total = 0\n",
    "for elem in elements:\n",
    "    if elem.isnumeric():\n",
    "        total += int(elem)\n",
    "\n",
    "print(total)\n"
   ],
   "outputs": [
    {
     "name": "stdout",
     "output_type": "stream",
     "text": [
      "80\n"
     ]
    }
   ],
   "execution_count": 50
  },
  {
   "metadata": {},
   "cell_type": "code",
   "outputs": [],
   "execution_count": null,
   "source": [
    "import re\n",
    "text = input()\n",
    "\n",
    "print(sum(map(int, re.findall(r\"\\d+\", text))))\n",
    "\n"
   ],
   "id": "e145203947dc0a81"
  },
  {
   "cell_type": "markdown",
   "id": "a39512a1",
   "metadata": {},
   "source": [
    "### Exercițiul 9: Acronim\n",
    "🔗 https://www.pbinfo.ro/probleme/2828/acronim"
   ]
  },
  {
   "cell_type": "code",
   "execution_count": null,
   "id": "92cfe1a7",
   "metadata": {},
   "outputs": [],
   "source": []
  },
  {
   "cell_type": "markdown",
   "id": "92dce7ec",
   "metadata": {},
   "source": [
    "### Exercițiul 10: Șablon\n",
    "🔗 https://www.pbinfo.ro/probleme/135/sablon"
   ]
  },
  {
   "cell_type": "code",
   "execution_count": null,
   "id": "e5f615c5",
   "metadata": {},
   "outputs": [],
   "source": []
  },
  {
   "cell_type": "markdown",
   "id": "38a7552e",
   "metadata": {},
   "source": [
    "### Exercițiul 11: Prefix și sufix maxim\n",
    "🔗 https://www.pbinfo.ro/probleme/4482/prefixsufixmax1"
   ]
  },
  {
   "cell_type": "code",
   "execution_count": null,
   "id": "a4ee0b2c",
   "metadata": {},
   "outputs": [],
   "source": []
  },
  {
   "cell_type": "markdown",
   "id": "3306b786",
   "metadata": {},
   "source": [
    "### Exercițiul 12: Inversare pentru maxim\n",
    "🔗 https://www.pbinfo.ro/probleme/2681/inversmax"
   ]
  },
  {
   "cell_type": "code",
   "execution_count": null,
   "id": "eb513f11",
   "metadata": {},
   "outputs": [],
   "source": []
  },
  {
   "cell_type": "markdown",
   "id": "20fe3af2",
   "metadata": {},
   "source": [
    "### Exercițiul 13: Conversie în altă bază\n",
    "🔗 https://www.pbinfo.ro/probleme/2295/baza"
   ]
  },
  {
   "cell_type": "code",
   "execution_count": null,
   "id": "6f257580",
   "metadata": {},
   "outputs": [],
   "source": []
  },
  {
   "cell_type": "markdown",
   "id": "3fbe3f4f",
   "metadata": {},
   "source": [
    "### Exercițiul 14: Platou de caractere\n",
    "🔗 https://www.pbinfo.ro/probleme/2739/sirplatou"
   ]
  },
  {
   "cell_type": "code",
   "execution_count": null,
   "id": "3df0f234",
   "metadata": {},
   "outputs": [],
   "source": []
  },
  {
   "cell_type": "markdown",
   "id": "a6e8e0cf",
   "metadata": {},
   "source": [
    "### Exercițiul 15: Sentence Similarity III\n",
    "🔗 https://leetcode.com/problems/sentence-similarity-iii/"
   ]
  },
  {
   "cell_type": "code",
   "execution_count": null,
   "id": "83fbb8d0",
   "metadata": {},
   "outputs": [],
   "source": []
  }
 ],
 "metadata": {
  "kernelspec": {
   "display_name": "Python 3 (ipykernel)",
   "language": "python",
   "name": "python3"
  },
  "language_info": {
   "codemirror_mode": {
    "name": "ipython",
    "version": 3
   },
   "file_extension": ".py",
   "mimetype": "text/x-python",
   "name": "python",
   "nbconvert_exporter": "python",
   "pygments_lexer": "ipython3",
   "version": "3.10.9"
  }
 },
 "nbformat": 4,
 "nbformat_minor": 5
}
