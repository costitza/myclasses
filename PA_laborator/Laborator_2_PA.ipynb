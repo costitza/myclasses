{
 "cells": [
  {
   "cell_type": "markdown",
   "id": "e9a23d8e",
   "metadata": {},
   "source": [
    "# Laborator 2 PA - INSTRUCȚIUNI"
   ]
  },
  {
   "cell_type": "markdown",
   "id": "add6bcde",
   "metadata": {},
   "source": [
    "### Exercițiul 1:\n",
    "Se citește un număr natural `n`.  \n",
    "Să se testeze dacă este **palindrom**."
   ]
  },
  {
   "cell_type": "code",
   "id": "8f1dc369",
   "metadata": {
    "ExecuteTime": {
     "end_time": "2025-10-13T20:17:31.950999Z",
     "start_time": "2025-10-13T20:17:31.944557Z"
    }
   },
   "source": "print(\"test\")",
   "outputs": [
    {
     "name": "stdout",
     "output_type": "stream",
     "text": [
      "test\n"
     ]
    }
   ],
   "execution_count": 1
  },
  {
   "cell_type": "markdown",
   "id": "8d3a9080",
   "metadata": {},
   "source": [
    "### Exercițiul 2:\n",
    "Un meșter trebuie să paveze întreaga pardoseală a unei bucătării de dimensiune `L1 × L2` cm cu plăci de gresie pătrate, toate cu aceeași dimensiune.  \n",
    "Știind că meșterul nu vrea să taie nici o placă și vrea să folosească un **număr minim de plăci**, să se determine:\n",
    "- dimensiunea plăcilor\n",
    "- numărul de plăci necesare\n",
    "\n",
    "📌 Exemplu:  \n",
    "Pentru `L1 = 440` și `L2 = 280`, răspunsul este: **77 plăci de 40cm** fiecare."
   ]
  },
  {
   "cell_type": "code",
   "execution_count": null,
   "id": "b9ad0a4f",
   "metadata": {},
   "outputs": [],
   "source": []
  },
  {
   "cell_type": "markdown",
   "id": "8e274066",
   "metadata": {},
   "source": [
    "### Exercițiul 3:\n",
    "Se citesc două numere naturale `a` și `b`.  \n",
    "Să se afișeze **cel mai mic număr Fibonacci** din intervalul `[a, b]`."
   ]
  },
  {
   "cell_type": "code",
   "execution_count": null,
   "id": "28906992",
   "metadata": {},
   "outputs": [],
   "source": []
  },
  {
   "cell_type": "markdown",
   "id": "6f2b3c55",
   "metadata": {},
   "source": [
    "### Exercițiul 4:\n",
    "Se citesc două numere naturale `a` și `b` cu cel mult două cifre.  \n",
    "Să se afișeze toate numerele **pozitive de cel mult două cifre** care:\n",
    "- se divid cu 5\n",
    "- NU se află în intervalul `[a, b]`\n",
    "\n",
    "🔹 Se vor afișa:\n",
    "- pe aceeași linie, **ordonate crescător**\n",
    "- apoi, pe o altă linie, **ordonate descrescător**"
   ]
  },
  {
   "cell_type": "code",
   "execution_count": null,
   "id": "96cffc0a",
   "metadata": {},
   "outputs": [],
   "source": []
  },
  {
   "cell_type": "markdown",
   "id": "0c977570",
   "metadata": {},
   "source": [
    "### Exercițiul 5:\n",
    "Se citește un număr natural `n`.  \n",
    "Să se afișeze următoarea **piramidă de numere**:\n",
    "\n",
    "1 \\\n",
    "1 2 \\\n",
    "1 2 3 \\\n",
    "... \\\n",
    "1 2 3 ... n \n"
   ]
  },
  {
   "cell_type": "code",
   "execution_count": null,
   "id": "f85310a7",
   "metadata": {},
   "outputs": [],
   "source": []
  },
  {
   "cell_type": "markdown",
   "id": "79491f20",
   "metadata": {},
   "source": [
    "### Exercițiul 6:\n",
    "Se citește un număr natural nenul `n`.  \n",
    "Să se afișeze:\n",
    "- cel mai mic număr care poate fi format din cifrele lui `n`\n",
    "- cel mai mare număr format din aceleași cifre\n",
    "\n",
    "🔹 Exemplu:  \n",
    "`n = 812383` → `min: 123388`, `max: 883321`"
   ]
  },
  {
   "cell_type": "code",
   "execution_count": null,
   "id": "980667e6",
   "metadata": {},
   "outputs": [],
   "source": []
  },
  {
   "cell_type": "markdown",
   "id": "9a9f4a21",
   "metadata": {},
   "source": [
    "### Exercițiul 7:\n",
    "Se citește de la tastatură un număr natural `n` și apoi un șir format din `n` numere întregi.  \n",
    "Să se afișeze:\n",
    "- cea mai mică valoare citită\n",
    "- numărul de apariții ale acesteia"
   ]
  },
  {
   "cell_type": "code",
   "execution_count": null,
   "id": "245cf59b",
   "metadata": {},
   "outputs": [],
   "source": []
  },
  {
   "cell_type": "markdown",
   "id": "3546e744",
   "metadata": {},
   "source": [
    "### Exercițiul 8:\n",
    "Se citește un număr `n` și un șir de `n` numere naturale.  \n",
    "Să se afișeze cele **mai mari două valori distincte** din șir.  \n",
    "Dacă nu există două valori distincte, se va afișa un **mesaj corespunzător**."
   ]
  },
  {
   "cell_type": "code",
   "execution_count": null,
   "id": "28952894",
   "metadata": {},
   "outputs": [],
   "source": []
  },
  {
   "cell_type": "markdown",
   "id": "bda07236",
   "metadata": {},
   "source": [
    "### Exercițiul 9:\n",
    "Scrieți un program care afișează **puterile lui 2** aflate într-un interval `[a, b]`.  \n",
    "\n",
    "🔹 Exemplu:  \n",
    "Pentru `[10, 100]` → `16 32 64`"
   ]
  },
  {
   "cell_type": "code",
   "execution_count": null,
   "id": "932801bc",
   "metadata": {},
   "outputs": [],
   "source": []
  },
  {
   "cell_type": "markdown",
   "id": "2bf174e3",
   "metadata": {},
   "source": [
    "### Exercițiul 10:\n",
    "Într-o zi a săptămânii, toți cei `n` studenți ai Facultății de Informatică sunt prezenți la cursuri într-un anumit **interval [a, b]** (unde `a < b`).  \n",
    "Scrieți un program care să determine **intervalul orar** în care **toți studenții** sunt prezenți.\n",
    "\n",
    "📌 Fiecare student are un interval [a, b].  \n",
    "Afișați intervalul comun în care toți sunt prezenți (intersecția intervalelor)."
   ]
  },
  {
   "cell_type": "code",
   "execution_count": null,
   "id": "b99f226b",
   "metadata": {},
   "outputs": [],
   "source": []
  },
  {
   "cell_type": "markdown",
   "id": "5aa448c3",
   "metadata": {},
   "source": [
    "### Exercițiul 11:\n",
    "Un vector `v` format din `n` numere întregi se numește **vector creastă** dacă există un indice `p` astfel încât:\n",
    "- `v[0] ≤ v[1] ≤ ... ≤ v[p]`\n",
    "- `v[p] ≥ v[p+1] ≥ ... ≥ v[n-1]`\n",
    "\n",
    "Scrieți un program care citește un vector și verifică dacă este **vector creastă** sau nu."
   ]
  },
  {
   "cell_type": "code",
   "execution_count": null,
   "id": "c88d3df8",
   "metadata": {},
   "outputs": [],
   "source": []
  },
  {
   "cell_type": "markdown",
   "id": "cbb3b810",
   "metadata": {},
   "source": [
    "### Exercițiul 12:\n",
    "**Cifra de control** (cu/fără instrucțiuni repetitive). Inspirat de:  \n",
    "🔗 https://leetcode.com/problems/add-digits/description/"
   ]
  },
  {
   "cell_type": "code",
   "execution_count": null,
   "id": "11bc73eb",
   "metadata": {},
   "outputs": [],
   "source": []
  },
  {
   "cell_type": "markdown",
   "id": "5a8083f6",
   "metadata": {},
   "source": [
    "### Exercițiul 13:\n",
    "Generare de numere - problemă:  \n",
    "🔗 https://www.pbinfo.ro/probleme/806/generare"
   ]
  },
  {
   "cell_type": "code",
   "execution_count": null,
   "id": "eda3689a",
   "metadata": {},
   "outputs": [],
   "source": []
  },
  {
   "cell_type": "markdown",
   "id": "faea09be",
   "metadata": {},
   "source": [
    "### Exercițiul 14:\n",
    "Numărul de divizori - problemă:  \n",
    "🔗 https://www.pbinfo.ro/probleme/18/numarul-de-divizori"
   ]
  },
  {
   "cell_type": "code",
   "execution_count": null,
   "id": "e420bbcd",
   "metadata": {},
   "outputs": [],
   "source": []
  },
  {
   "cell_type": "markdown",
   "id": "f02bed79",
   "metadata": {},
   "source": [
    "### Exercițiul 15:\n",
    "Număr cu cei mai mulți divizori - problemă:  \n",
    "🔗 https://www.pbinfo.ro/probleme/245/nrdivmax"
   ]
  },
  {
   "cell_type": "code",
   "execution_count": null,
   "id": "1d5f5e63",
   "metadata": {},
   "outputs": [],
   "source": []
  },
  {
   "cell_type": "markdown",
   "id": "9f495a05",
   "metadata": {},
   "source": [
    "### Exercițiul 16:\n",
    "Trei divizori - problemă:  \n",
    "🔗 https://leetcode.com/problems/three-divisors/description/"
   ]
  },
  {
   "cell_type": "code",
   "execution_count": null,
   "id": "055e36bd",
   "metadata": {},
   "outputs": [],
   "source": []
  },
  {
   "cell_type": "markdown",
   "id": "7021b3d8",
   "metadata": {},
   "source": [
    "### Exercițiul 17:\n",
    "Număr de factori comuni - problemă:  \n",
    "🔗 https://leetcode.com/problems/number-of-common-factors/description/"
   ]
  },
  {
   "cell_type": "code",
   "execution_count": null,
   "id": "7cb4d12d",
   "metadata": {},
   "outputs": [],
   "source": []
  },
  {
   "cell_type": "markdown",
   "id": "591c0251",
   "metadata": {},
   "source": [
    "### Exercițiul 18:\n",
    "Zero-uri terminale în factorial - problemă:  \n",
    "🔗 https://leetcode.com/problems/factorial-trailing-zeroes/description/"
   ]
  },
  {
   "cell_type": "code",
   "execution_count": null,
   "id": "f4f7ee59",
   "metadata": {},
   "outputs": [],
   "source": []
  },
  {
   "cell_type": "markdown",
   "id": "952b6e5f",
   "metadata": {},
   "source": [
    "### Exercițiul 19:\n",
    "Numărare cifre unice - problemă:  \n",
    "🔗 https://leetcode.com/problems/count-numbers-with-unique-digits/description/"
   ]
  },
  {
   "cell_type": "code",
   "execution_count": null,
   "id": "b65ac552",
   "metadata": {},
   "outputs": [],
   "source": []
  }
 ],
 "metadata": {
  "kernelspec": {
   "display_name": "Python 3 (ipykernel)",
   "language": "python",
   "name": "python3"
  },
  "language_info": {
   "codemirror_mode": {
    "name": "ipython",
    "version": 3
   },
   "file_extension": ".py",
   "mimetype": "text/x-python",
   "name": "python",
   "nbconvert_exporter": "python",
   "pygments_lexer": "ipython3",
   "version": "3.10.9"
  }
 },
 "nbformat": 4,
 "nbformat_minor": 5
}
